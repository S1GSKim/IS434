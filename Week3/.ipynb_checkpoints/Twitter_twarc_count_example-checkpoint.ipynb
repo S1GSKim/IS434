{
 "cells": [
  {
   "cell_type": "markdown",
   "id": "fe54afca",
   "metadata": {},
   "source": [
    "In this lab, we will use 'twarc' Python package to interact with Twitter API v2.\n",
    "\n",
    "We will use Tweet Counts --> Recent Tweet counts (endpoint)\n",
    "\n",
    "Here is a sample URL:\n",
    "https://api.twitter.com/2/tweets/counts/recent?query=covid&granularity=day\n",
    "\n",
    "\n",
    "Ref: https://www.youtube.com/watch?v=guHH51GDDI0"
   ]
  },
  {
   "cell_type": "code",
   "execution_count": 1,
   "id": "1362f3d2",
   "metadata": {},
   "outputs": [
    {
     "ename": "ModuleNotFoundError",
     "evalue": "No module named 'twarc'",
     "output_type": "error",
     "traceback": [
      "\u001b[1;31m---------------------------------------------------------------------------\u001b[0m",
      "\u001b[1;31mModuleNotFoundError\u001b[0m                       Traceback (most recent call last)",
      "\u001b[1;32m~\\AppData\\Local\\Temp\\ipykernel_6152\\1798624147.py\u001b[0m in \u001b[0;36m<module>\u001b[1;34m\u001b[0m\n\u001b[0;32m      1\u001b[0m \u001b[1;32mimport\u001b[0m \u001b[0mplotly\u001b[0m\u001b[1;33m.\u001b[0m\u001b[0mgraph_objects\u001b[0m \u001b[1;32mas\u001b[0m \u001b[0mgo\u001b[0m\u001b[1;33m\u001b[0m\u001b[1;33m\u001b[0m\u001b[0m\n\u001b[1;32m----> 2\u001b[1;33m \u001b[1;32mfrom\u001b[0m \u001b[0mtwarc\u001b[0m \u001b[1;32mimport\u001b[0m \u001b[0mTwarc2\u001b[0m\u001b[1;33m\u001b[0m\u001b[1;33m\u001b[0m\u001b[0m\n\u001b[0m",
      "\u001b[1;31mModuleNotFoundError\u001b[0m: No module named 'twarc'"
     ]
    }
   ],
   "source": [
    "import plotly.graph_objects as go\n",
    "from twarc import Twarc2"
   ]
  },
  {
   "cell_type": "code",
   "execution_count": 2,
   "id": "b72de0e0",
   "metadata": {},
   "outputs": [
    {
     "ename": "NameError",
     "evalue": "name 'Twarc2' is not defined",
     "output_type": "error",
     "traceback": [
      "\u001b[1;31m---------------------------------------------------------------------------\u001b[0m",
      "\u001b[1;31mNameError\u001b[0m                                 Traceback (most recent call last)",
      "\u001b[1;32m~\\AppData\\Local\\Temp\\ipykernel_6152\\2954570797.py\u001b[0m in \u001b[0;36m<module>\u001b[1;34m\u001b[0m\n\u001b[0;32m      1\u001b[0m \u001b[1;31m# Paste in your own bearer token below\u001b[0m\u001b[1;33m\u001b[0m\u001b[1;33m\u001b[0m\u001b[0m\n\u001b[1;32m----> 2\u001b[1;33m client = Twarc2(\n\u001b[0m\u001b[0;32m      3\u001b[0m     \u001b[0mbearer_token\u001b[0m \u001b[1;33m=\u001b[0m \u001b[1;34m'AAAAAAAAAAAAAAAAAAAAAFcTlQEAAAAALP2qUZX5P8Tbl71LhX08vBf%2BvUw%3DCXKp7Y8C7X5jOxM4lgVOFWm2a8fMVPuzFK1HhWAtf9rCzY4bgZ'\u001b[0m\u001b[1;33m\u001b[0m\u001b[1;33m\u001b[0m\u001b[0m\n\u001b[0;32m      4\u001b[0m )\n",
      "\u001b[1;31mNameError\u001b[0m: name 'Twarc2' is not defined"
     ]
    }
   ],
   "source": [
    "# Paste in your own bearer token below\n",
    "client = Twarc2(\n",
    "    bearer_token = 'AAAAAAAAAAAAAAAAAAAAAFcTlQEAAAAALP2qUZX5P8Tbl71LhX08vBf%2BvUw%3DCXKp7Y8C7X5jOxM4lgVOFWm2a8fMVPuzFK1HhWAtf9rCzY4bgZ'\n",
    ")"
   ]
  },
  {
   "cell_type": "code",
   "execution_count": null,
   "id": "115f8ff0",
   "metadata": {},
   "outputs": [],
   "source": [
    "query = 'covid'"
   ]
  },
  {
   "cell_type": "code",
   "execution_count": null,
   "id": "1db2f922",
   "metadata": {},
   "outputs": [],
   "source": [
    "results = client.counts_recent(\n",
    "    query=query,\n",
    "    granularity='day'\n",
    ")"
   ]
  },
  {
   "cell_type": "code",
   "execution_count": null,
   "id": "b01e873c",
   "metadata": {},
   "outputs": [],
   "source": [
    "for page in results:\n",
    "    print(\"======================\")\n",
    "    print(page)\n",
    "    data = page['data']"
   ]
  },
  {
   "cell_type": "code",
   "execution_count": null,
   "id": "0e1280c4",
   "metadata": {},
   "outputs": [],
   "source": [
    "day = []\n",
    "counts = []\n",
    "\n",
    "for d in data:\n",
    "    day.append( d['start'][:10] )\n",
    "    counts.append( d['tweet_count'] )"
   ]
  },
  {
   "cell_type": "code",
   "execution_count": null,
   "id": "4eac8a35",
   "metadata": {},
   "outputs": [],
   "source": [
    "fig = go.Figure(\n",
    "    data=[\n",
    "        go.Bar(x=day, y=counts)\n",
    "    ]\n",
    ")\n",
    "\n",
    "fig.show()"
   ]
  }
 ],
 "metadata": {
  "kernelspec": {
   "display_name": "Python 3",
   "language": "python",
   "name": "python3"
  },
  "language_info": {
   "codemirror_mode": {
    "name": "ipython",
    "version": 3
   },
   "file_extension": ".py",
   "mimetype": "text/x-python",
   "name": "python",
   "nbconvert_exporter": "python",
   "pygments_lexer": "ipython3",
   "version": "3.9.13"
  }
 },
 "nbformat": 4,
 "nbformat_minor": 5
}
